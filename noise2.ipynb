{
 "cells": [
  {
   "cell_type": "code",
   "execution_count": 1,
   "metadata": {},
   "outputs": [],
   "source": [
    "import librosa\n",
    "import numpy as np\n",
    "import soundfile as sf\n",
    "import os"
   ]
  },
  {
   "cell_type": "code",
   "execution_count": 2,
   "metadata": {},
   "outputs": [],
   "source": [
    "def noisy(directory): \n",
    "    for files in os.scandir(directory):\n",
    "\n",
    "        # 读取音频文件\n",
    "        wav_data, sr = librosa.load(files)\n",
    "\n",
    "        # sr: 音频采样率\n",
    "        # n_steps: 要移动多少步\n",
    "        # bins_per_octave: 每个八度音阶(半音)多少步\n",
    "        # 上移大三度（如果bins_per_octave为12，则4步）\n",
    "        noisy_wav = librosa.effects.pitch_shift(wav_data, sr=sr, n_steps=4, bins_per_octave=12)\n",
    "        # 向下移动一个三全音（如果bins_per_octave是 12，则为六步）\n",
    "        noisy_wav = librosa.effects.pitch_shift(wav_data, sr=sr, n_steps=-6, bins_per_octave=12)\n",
    "        # 上移 3 个四分音符\n",
    "        noisy_wav = librosa.effects.pitch_shift(wav_data, sr=sr, n_steps=3, bins_per_octave=24)\n",
    "\n",
    "        file_name = os.path.splitext(os.path.basename(files))[0]\n",
    "\n",
    "        output_path = f\"../data/enhance/{file_name}_noisy.wav\"\n",
    "        sf.write(output_path, noisy_wav, sr) "
   ]
  },
  {
   "cell_type": "code",
   "execution_count": 3,
   "metadata": {},
   "outputs": [],
   "source": [
    "noisy(\"../data/wavfiles/\")"
   ]
  }
 ],
 "metadata": {
  "kernelspec": {
   "display_name": "Python 3 (ipykernel)",
   "language": "python",
   "name": "python3"
  },
  "language_info": {
   "codemirror_mode": {
    "name": "ipython",
    "version": 3
   },
   "file_extension": ".py",
   "mimetype": "text/x-python",
   "name": "python",
   "nbconvert_exporter": "python",
   "pygments_lexer": "ipython3",
   "version": "3.8.10"
  }
 },
 "nbformat": 4,
 "nbformat_minor": 4
}
