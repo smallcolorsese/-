{
 "cells": [
  {
   "cell_type": "code",
   "execution_count": 1,
   "metadata": {},
   "outputs": [],
   "source": [
    "import librosa\n",
    "import numpy as np\n",
    "import matplotlib.pyplot as plt\n",
    "import soundfile as sf\n",
    "import os"
   ]
  },
  {
   "cell_type": "code",
   "execution_count": 4,
   "metadata": {},
   "outputs": [],
   "source": [
    "def noisy(directory): \n",
    "    try:\n",
    "        os.removedirs(\"../data/wavfiles/.ipynb_checkpoints\")\n",
    "    except:\n",
    "        pass\n",
    "    for files in os.scandir(directory):\n",
    "\n",
    "        # 读取音频文件\n",
    "        wav_data, sr = librosa.load(files)\n",
    "\n",
    "        # 高斯噪声\n",
    "        noise = np.random.normal(0, 0.0005, len(wav_data))  # 可调整噪声的标准差\n",
    "        noisy_wav = wav_data + noise\n",
    "\n",
    "        file_name = os.path.splitext(os.path.basename(files))[0]\n",
    "\n",
    "        output_path = f\"../data/enhance/{file_name}_noisy.wav\"\n",
    "        sf.write(output_path, noisy_wav, sr) "
   ]
  },
  {
   "cell_type": "code",
   "execution_count": 5,
   "metadata": {},
   "outputs": [],
   "source": [
    "noisy('../data/wavfiles/')"
   ]
  },
  {
   "cell_type": "code",
   "execution_count": null,
   "metadata": {},
   "outputs": [],
   "source": []
  }
 ],
 "metadata": {
  "kernelspec": {
   "display_name": "Python 3 (ipykernel)",
   "language": "python",
   "name": "python3"
  },
  "language_info": {
   "codemirror_mode": {
    "name": "ipython",
    "version": 3
   },
   "file_extension": ".py",
   "mimetype": "text/x-python",
   "name": "python",
   "nbconvert_exporter": "python",
   "pygments_lexer": "ipython3",
   "version": "3.8.10"
  }
 },
 "nbformat": 4,
 "nbformat_minor": 4
}
